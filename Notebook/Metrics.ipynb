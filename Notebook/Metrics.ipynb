{
 "cells": [
  {
   "cell_type": "markdown",
   "metadata": {},
   "source": [
    "### Imports"
   ]
  },
  {
   "cell_type": "code",
   "execution_count": null,
   "metadata": {},
   "outputs": [],
   "source": [
    "import os\n",
    "import os.path\n",
    "import json\n",
    "\n",
    "from scipy.optimize import linear_sum_assignment\n",
    "\n",
    "import numpy as np\n",
    "\n",
    "import glob\n",
    "\n",
    "import matplotlib.pyplot as plt\n",
    "import matplotlib.patches as patches\n",
    "import matplotlib\n",
    "\n",
    "import math\n",
    "\n",
    "import collections"
   ]
  },
  {
   "cell_type": "markdown",
   "metadata": {},
   "source": [
    "Function to convert bbox to range [0, 1]"
   ]
  },
  {
   "cell_type": "code",
   "execution_count": null,
   "metadata": {},
   "outputs": [],
   "source": [
    "def convert_bbox_to_coordinates(bbox, HH, WW):\n",
    "    \"\"\"\n",
    "    input: bbox of type (x, y, w,h)\n",
    "    \n",
    "    output: bbox of type (x, y, x1, x2)\n",
    "    \"\"\"\n",
    "    # Convert to range [0, 1] \n",
    "    x, y, w, h = bbox\n",
    "    x0 = x / WW\n",
    "    y0 = y / HH\n",
    "    x1 = (x + w) / WW\n",
    "    y1 = (y + h) / HH\n",
    "    return [x0, y0, x1, y1]"
   ]
  },
  {
   "cell_type": "code",
   "execution_count": null,
   "metadata": {},
   "outputs": [],
   "source": [
    "def clamp(x, min_val, max_val):\n",
    "    \"\"\"\n",
    "    Function to clamp a value\n",
    "    \"\"\"\n",
    "    if x < min_val:\n",
    "        return 0\n",
    "    elif x > max_val:\n",
    "        return 1\n",
    "    else:\n",
    "        return x"
   ]
  },
  {
   "cell_type": "code",
   "execution_count": null,
   "metadata": {},
   "outputs": [],
   "source": [
    "def convert_bbox_mean_to_coordinates(bbox, HH, WW):\n",
    "    # Convert to range [0, 1]\n",
    "    \"\"\"\n",
    "    input: bbox of type (x_center, y_center, w,h)\n",
    "    \n",
    "    output: bbox of type (x, y, x1, x2)\n",
    "    \"\"\"\n",
    "    x, y, w, h = bbox\n",
    "    x0 = (x - w/2) / WW\n",
    "    y0 = (y - h/2) / HH\n",
    "    x1 = (x0 + w) / WW\n",
    "    y1 = (y0 + h) / HH\n",
    "    \n",
    "    x0 = clamp(x0, 0, 1)\n",
    "    x1 = clamp(x1, 0, 1)\n",
    "    y0 = clamp(y0, 0, 1)\n",
    "    y1 = clamp(y1, 0, 1)\n",
    "    \n",
    "    return [x0, y0, x1, y1]"
   ]
  },
  {
   "cell_type": "markdown",
   "metadata": {},
   "source": [
    "### Metrics"
   ]
  },
  {
   "cell_type": "markdown",
   "metadata": {},
   "source": [
    "IoU@P and IoU@R"
   ]
  },
  {
   "cell_type": "code",
   "execution_count": null,
   "metadata": {},
   "outputs": [],
   "source": [
    "def bb_intersection_over_union(boxA, boxB):\n",
    "    # determine the (x, y)-coordinates of the intersection rectangle\n",
    "    xA = max(boxA[0], boxB[0])\n",
    "    yA = max(boxA[1], boxB[1])\n",
    "    xB = min(boxA[2], boxB[2])\n",
    "    yB = min(boxA[3], boxB[3])\n",
    "    \n",
    "    if xA == xB or yA == yB:\n",
    "        return 1\n",
    "    # compute the area of intersection rectangle\n",
    "    interArea = abs(max((xB - xA, 0)) * max((yB - yA), 0))\n",
    "    if interArea == 0:\n",
    "        return 0\n",
    "    # compute the area of both the prediction and ground-truth\n",
    "    # rectangles\n",
    "    boxAArea = abs((boxA[2] - boxA[0]) * (boxA[3] - boxA[1]))\n",
    "    boxBArea = abs((boxB[2] - boxB[0]) * (boxB[3] - boxB[1]))\n",
    "\n",
    "    # compute the intersection over union by taking the intersection\n",
    "    # area and dividing it by the sum of prediction + ground-truth\n",
    "    # areas - the interesection area\n",
    "    iou = interArea / float(boxAArea + boxBArea - interArea)\n",
    "\n",
    "    # return the intersection over union value\n",
    "    return iou\n",
    "\n",
    "# Precision helper function\n",
    "def precision_at(threshold, iou):\n",
    "    # TP: A correct detection. Detection with IOU ≥ threshold\n",
    "    # FP: A wrong detection. Detection with IOU < threshold\n",
    "    # FN: A ground truth not detected\n",
    "    true_positives, false_positives, false_negatives = 0, 0, 0\n",
    "    for i in iou:\n",
    "        if i >= threshold:\n",
    "            true_positives += 1\n",
    "        else:\n",
    "            false_positives += 1\n",
    "    return true_positives, false_positives, false_negatives\n",
    "\n",
    "def precision(iou, name, version, epoch, fn, print_table=True):\n",
    "    # Loop over IoU thresholds\n",
    "    if not os.path.exists(\"./metrics/IoUAndRecall/\"):\n",
    "        os.mkdir(\"./metrics/IoUAndRecall/\")\n",
    "    \n",
    "    if not os.path.exists(\"./metrics/IoUAndRecall/\"+str(version)+\"/\"):\n",
    "        os.mkdir(\"./metrics/IoUAndRecall/\"+str(version)+\"/\")\n",
    "    \n",
    "        \n",
    "    with open(\"./metrics/IoUAndRecall/\"+str(version)+\"/\" + str(epoch) + \"precision.txt\", \"w\") as f:\n",
    "        prec = []\n",
    "        if print_table:\n",
    "            print(\"Thresh\\tTP\\tFP\\tFN\\tPrec.\")\n",
    "        f.write(\"Thresh\\tTP\\tFP\\tFN\\tPrec.\\n\")\n",
    "        for t in np.arange(0.3, 1.0, 0.05):\n",
    "            tp, fp, _ = precision_at(t, iou)\n",
    "            if (tp + fp) > 0:\n",
    "                p = tp / (tp + fp)\n",
    "            else:\n",
    "                p = 0\n",
    "            if print_table:\n",
    "                print(\"{:1.3f}\\t{}\\t{}\\t{}\\t{:1.3f}\".format(t, tp, fp, fn, p))\n",
    "            f.write(\"{:1.3f}\\t{}\\t{}\\t{}\\t{:1.3f}\\n\".format(t, tp, fp, fn, p))\n",
    "            prec.append(p)\n",
    "\n",
    "        if print_table:\n",
    "            print(\"AP\\t-\\t-\\t-\\t{:1.3f}\".format(np.mean(prec)))\n",
    "        f.write(\"AP\\t-\\t-\\t-\\t{:1.3f}\\n\".format(np.mean(prec)))\n",
    "    return np.mean(prec)\n",
    "\n",
    "def recall(iou, name, version, epoch, fn, print_table=True):\n",
    "    # Loop over IoU thresholds\n",
    "    if not os.path.exists(\"./metrics/IoUAndRecall/\"):\n",
    "        os.mkdir(\"./metrics/IoUAndRecall/\")\n",
    "    \n",
    "    if not os.path.exists(\"./metrics/IoUAndRecall/\"+str(version)+\"/\"):\n",
    "        os.mkdir(\"./metrics/IoUAndRecall/\"+str(version)+\"/\")\n",
    "    \n",
    "\n",
    "    with open(\"./metrics/IoUAndRecall/\"+str(version)+\"/\" + str(epoch) + \"recall.txt\", \"w\") as f:\n",
    "        prec = []\n",
    "        if print_table:\n",
    "            print(\"Thresh\\tTP\\tFP\\tFN\\tPrec.\")\n",
    "        f.write(\"Thresh\\tTP\\tFP\\tFN\\tPrec.\\n\")\n",
    "        for t in np.arange(0.3, 1.0, 0.05):\n",
    "            tp, fp, _ = precision_at(t, iou)\n",
    "            if (tp + fn) > 0:\n",
    "                p = tp / (tp + fn)\n",
    "            else:\n",
    "                p = 0\n",
    "            if print_table:\n",
    "                print(\"{:1.3f}\\t{}\\t{}\\t{}\\t{:1.3f}\".format(t, tp, fp, fn, p))\n",
    "            f.write(\"{:1.3f}\\t{}\\t{}\\t{}\\t{:1.3f}\\n\".format(t, tp, fp, fn, p))\n",
    "            prec.append(p)\n",
    "\n",
    "        if print_table:\n",
    "            print(\"AP\\t-\\t-\\t-\\t{:1.3f}\".format(np.mean(prec)))\n",
    "        f.write(\"AP\\t-\\t-\\t-\\t{:1.3f}\\n\".format(np.mean(prec)))\n",
    "    return np.mean(prec)"
   ]
  },
  {
   "cell_type": "markdown",
   "metadata": {},
   "source": [
    "Relative spatial position categorical"
   ]
  },
  {
   "cell_type": "code",
   "execution_count": null,
   "metadata": {},
   "outputs": [],
   "source": [
    "def compute_relative_spatial_position_categorical(bbox_gt, bbox_pred, verbose=False):\n",
    "    def compute_obj_centers(bbox1):\n",
    "        x0, y0, x1, y1 = bbox1\n",
    "        return (0.5 * (x0 + x1), 0.5 * (y0 + y1))\n",
    "    \n",
    "    def relative_spatial_position_categorical(bbox1, bbox2):\n",
    "        # Check for inside / surrounding\n",
    "        sx0, sy0, sx1, sy1 = bbox1\n",
    "        ox0, oy0, ox1, oy1 = bbox2\n",
    "        d0, d1 = compute_obj_centers(bbox1), compute_obj_centers(bbox2)\n",
    "        d3 = (d0[0] - d1[0], d0[1]-d1[1])\n",
    "        theta = math.atan2(d3[1], d3[0])\n",
    "\n",
    "        if theta >= 3 * math.pi / 4 or theta <= -3 * math.pi / 4:\n",
    "            p = 'left of'\n",
    "        elif -3 * math.pi / 4 <= theta < -math.pi / 4:\n",
    "            p = 'above'\n",
    "        elif -math.pi / 4 <= theta < math.pi / 4:\n",
    "            p = 'right of'\n",
    "        elif math.pi / 4 <= theta < 3 * math.pi / 4:\n",
    "            p = 'below'\n",
    "        return p\n",
    "    \n",
    "    def check_relative_spatial_positions_categorical(bbox):\n",
    "        rel_spa_pos = []\n",
    "        for i in range(len(bbox)):\n",
    "            for j in range(len(bbox)):\n",
    "                if i != j:\n",
    "                    out = relative_spatial_position_categorical(bbox[i], bbox[j])\n",
    "                    rel_spa_pos.append(out)\n",
    "        return rel_spa_pos\n",
    "    \n",
    "    def compare_relative_spatial_positions_categorical(gt, pred):\n",
    "        acc = 0\n",
    "        for i in range(len(gt)):\n",
    "            if gt[i] == pred[i]:\n",
    "                acc += 1\n",
    "            elif (gt[i] == \"left of\" and pred[i] == \"right of\") or (gt[i] == \"right of\" and pred[i] == \"left of\"):\n",
    "                acc += 1\n",
    "        \n",
    "        return acc/len(gt) if len(gt) > 0 else 0\n",
    "    \n",
    "    rsp_cat = check_relative_spatial_positions_categorical(bbox_gt)\n",
    "    rsp2_cat = check_relative_spatial_positions_categorical(bbox_pred)\n",
    "    if verbose:\n",
    "        print(rsp_cat, rsp2_cat)\n",
    "    return compare_relative_spatial_positions_categorical(rsp_cat, rsp2_cat)"
   ]
  },
  {
   "cell_type": "markdown",
   "metadata": {},
   "source": [
    "Relative spatial position numerical"
   ]
  },
  {
   "cell_type": "code",
   "execution_count": null,
   "metadata": {},
   "outputs": [],
   "source": [
    "def compute_relative_spatial_position_numerical(bbox_gt, bbox_pred, verbose=False):\n",
    "    def compute_obj_centers(bbox1):\n",
    "        x0, y0, x1, y1 = bbox1\n",
    "        return (0.5 * (x0 + x1), 0.5 * (y0 + y1))\n",
    "    \n",
    "    def relative_spatial_position_numerical(bbox1, bbox2):\n",
    "        # Check for inside / surrounding\n",
    "        sx0, sy0, sx1, sy1 = bbox1\n",
    "        ox0, oy0, ox1, oy1 = bbox2\n",
    "        d0, d1 = compute_obj_centers(bbox1), compute_obj_centers(bbox2)\n",
    "        d3 = (d0[0] - d1[0], d0[1]-d1[1])\n",
    "        return math.atan2(d3[1], d3[0])\n",
    "    \n",
    "    def check_relative_spatial_positions_numerical(bbox):\n",
    "        rel_spa_pos = []\n",
    "        for i in range(len(bbox)):\n",
    "            for j in range(len(bbox)):\n",
    "                if i != j:\n",
    "                    out = relative_spatial_position_numerical(bbox[i], bbox[j])\n",
    "                    rel_spa_pos.append(out)\n",
    "        return rel_spa_pos\n",
    "    \n",
    "    def compare_relative_spatial_positions_numerical(gt, pred):\n",
    "        acc = 0\n",
    "        for i in range(len(gt)):\n",
    "            acc += abs(gt[i] - pred[i])\n",
    "\n",
    "        # print(acc_gt, acc_pred)\n",
    "        return acc/len(gt) if len(gt) > 0 else 0\n",
    "    \n",
    "    rsp_cat = check_relative_spatial_positions_numerical(bbox_gt)\n",
    "    rsp2_cat = check_relative_spatial_positions_numerical(bbox_pred)\n",
    "    if verbose:\n",
    "        print(rsp_cat, rsp2_cat)\n",
    "    return compare_relative_spatial_positions_numerical(rsp_cat, rsp2_cat)"
   ]
  },
  {
   "cell_type": "markdown",
   "metadata": {},
   "source": [
    "Aspect ratio"
   ]
  },
  {
   "cell_type": "code",
   "execution_count": null,
   "metadata": {},
   "outputs": [],
   "source": [
    "def compute_aspect_ratio(bbox_gt, bbox_pred, verbose=False):\n",
    "    def check_aspect_ratio(gt, pred, verbose=False):\n",
    "        acc = 0\n",
    "        for i in range(len(gt)):\n",
    "            gt_x1, gt_y1, gt_x2, gt_y2 = gt[i]\n",
    "            pr_x1, pr_y1, pr_x2, pr_y2 = pred[i]\n",
    "            \n",
    "            theta_gt = np.arctan2(gt_y2 - gt_y1, gt_x2 - gt_x1)\n",
    "            theta_pr = np.arctan2(pr_y2 - pr_y1, pr_x2 - pr_x1)\n",
    "            \n",
    "            acc += abs(theta_gt - theta_pr)\n",
    "    \n",
    "        return acc/len(gt) if len(gt) > 0 else 0\n",
    "    \n",
    "    return check_aspect_ratio(bbox_gt, bbox_pred, False)"
   ]
  },
  {
   "cell_type": "markdown",
   "metadata": {},
   "source": [
    "Class matching"
   ]
  },
  {
   "cell_type": "code",
   "execution_count": null,
   "metadata": {},
   "outputs": [],
   "source": [
    "def compute_class_matching(obj_gt, obj_pred):\n",
    "    def class_matching(gt, pred):\n",
    "        gt_counter = {}\n",
    "        pred_counter = {}\n",
    "        for i in gt:\n",
    "            if i in gt_counter:\n",
    "                gt_counter[i] += 1\n",
    "            else:\n",
    "                gt_counter[i] = 1\n",
    "        for i in pred:\n",
    "            if i in pred_counter:\n",
    "                pred_counter[i] += 1\n",
    "            else:\n",
    "                pred_counter[i] = 1\n",
    "\n",
    "        TP, FP, FN = 0, 0, 0\n",
    "\n",
    "        for key in set(list(gt_counter.keys()) + list(pred_counter.keys())):\n",
    "            if key in pred_counter and key in gt_counter:\n",
    "                diff = gt_counter[key] - pred_counter[key]\n",
    "                if diff == 0:\n",
    "                    TP += gt_counter[key]\n",
    "                else:\n",
    "                    TP += min(gt_counter[key], pred_counter[key])\n",
    "                    if diff < 0:\n",
    "                        FP += abs(diff)\n",
    "                    else:\n",
    "                        FN += abs(diff)\n",
    "            elif key in gt_counter:\n",
    "                FN += gt_counter[key]\n",
    "            else:\n",
    "                FP += pred_counter[key]\n",
    "        recall = TP/(TP+FN) if TP+FN > 0 else 0\n",
    "        precision = TP/(TP+FP) if TP+FP > 0 else 0\n",
    "        f1_score = (2*recall*precision)/(recall+precision) if recall + precision != 0 else 0\n",
    "        return recall, precision, f1_score\n",
    "    return class_matching(obj_gt, obj_pred)\n",
    "        "
   ]
  },
  {
   "cell_type": "markdown",
   "metadata": {},
   "source": [
    "Relative scale"
   ]
  },
  {
   "cell_type": "code",
   "execution_count": null,
   "metadata": {},
   "outputs": [],
   "source": [
    "def compute_relative_scale(bbox_gt, bbox_pred):\n",
    "    def relative_scale(gt, pred, verbose=False, sol1=False):\n",
    "        acc, total = 0, 0\n",
    "        for i in range(len(gt)):\n",
    "            for j in range(len(gt)):\n",
    "                if i != j:\n",
    "                    gt1_x1, gt1_y1, gt1_x2, gt1_y2 = gt[i]\n",
    "                    gt2_x1, gt2_y1, gt2_x2, gt2_y2 = gt[j]\n",
    "\n",
    "                    pr1_x1, pr1_y1, pr1_x2, pr1_y2 = pred[i]\n",
    "                    pr2_x1, pr2_y1, pr2_x2, pr2_y2 = pred[j]\n",
    "\n",
    "                    gt1_height, gt1_width = gt1_y2 - gt1_y1, gt1_x2 - gt1_x1\n",
    "                    gt2_height, gt2_width = gt2_y2 - gt2_y1, gt2_x2 - gt2_x1\n",
    "\n",
    "                    pred1_height, pred1_width = pr1_y2 - pr1_y1, pr1_x2 - pr1_x1\n",
    "                    pred2_height, pred2_width = pr2_y2 - pr2_y1, pr2_x2 - pr2_x1\n",
    "\n",
    "                    gt1_area = gt1_height * gt1_width\n",
    "                    gt2_area = gt2_height * gt2_width\n",
    "\n",
    "                    pred1_area = pred1_height * pred1_width\n",
    "                    pred2_area = pred2_height * pred2_width\n",
    "                    \n",
    "                    if gt1_area == 0 or gt2_area == 0 or pred1_area == 0 or pred2_area == 0:\n",
    "                        continue\n",
    "                    R1, R2 = pred1_area/pred2_area, gt1_area/gt2_area, \n",
    "\n",
    "                    acc += abs(R1-R2)\n",
    "\n",
    "                    total += 1\n",
    "        return acc/total if total > 0 else 0\n",
    "\n",
    "    return relative_scale(bbox_gt, bbox_pred)"
   ]
  },
  {
   "cell_type": "code",
   "execution_count": null,
   "metadata": {},
   "outputs": [],
   "source": [
    "def generate_metrics(gt, pred, coco_objects_gt, coco_objects_pred, verbose=False):\n",
    "    # print(gt, pred, coco_objects_gt, coco_objects_pred)\n",
    "    rspc, rspn, ar, rs, r, p, f = 0, 0, 0, 0, 0, 0, 0\n",
    "    # RSPC\n",
    "    rspc = compute_relative_spatial_position_categorical(gt, pred, verbose)\n",
    "        \n",
    "    # RSPN\n",
    "    rspn = compute_relative_spatial_position_numerical(gt, pred, verbose)\n",
    "        \n",
    "    # AR\n",
    "    ar = compute_aspect_ratio(gt, pred, verbose)\n",
    "        \n",
    "    # CM\n",
    "    r, p, f = compute_class_matching(coco_objects_gt, coco_objects_pred)\n",
    "                   \n",
    "    # RS\n",
    "    rs = compute_relative_scale(gt, pred)\n",
    "    \n",
    "    return rspc, rspn, ar, rs, r, p, f"
   ]
  },
  {
   "cell_type": "markdown",
   "metadata": {},
   "source": [
    "### Coco validation"
   ]
  },
  {
   "cell_type": "code",
   "execution_count": null,
   "metadata": {},
   "outputs": [],
   "source": [
    "COCO_VAL_ANNOT = \"../amr-ganGCN/data/datasets/COCO/annotations/instances_train2014.json\""
   ]
  },
  {
   "cell_type": "code",
   "execution_count": null,
   "metadata": {},
   "outputs": [],
   "source": [
    "with open(COCO_VAL_ANNOT, \"r\") as json_file:\n",
    "    coco = json.load(json_file)"
   ]
  },
  {
   "cell_type": "code",
   "execution_count": null,
   "metadata": {},
   "outputs": [],
   "source": [
    "objects = {}"
   ]
  },
  {
   "cell_type": "code",
   "execution_count": null,
   "metadata": {},
   "outputs": [],
   "source": [
    "# Obtain objects\n",
    "for ann in coco['annotations']:\n",
    "    image_id = str(ann['image_id'])\n",
    "    if image_id in objects:\n",
    "        objects[image_id]['ann'].append(ann)\n",
    "    else:\n",
    "        objects[image_id] = {'ann': [ann]}\n",
    "\n",
    "# Obtain image width and height\n",
    "for images in coco['images']:\n",
    "    image_id = str(images['id'])\n",
    "    if image_id in objects:\n",
    "        objects[image_id]['size'] = (images[\"height\"], images['width'])"
   ]
  },
  {
   "cell_type": "code",
   "execution_count": null,
   "metadata": {},
   "outputs": [],
   "source": [
    "objects.keys()"
   ]
  },
  {
   "cell_type": "markdown",
   "metadata": {},
   "source": [
    "### AMR-OBJGAN output"
   ]
  },
  {
   "cell_type": "code",
   "execution_count": null,
   "metadata": {},
   "outputs": [],
   "source": [
    "VERSION = \"3\"\n",
    "files = list(glob.glob(\"../amr-ganRNN/evaluator_output/\"+str(VERSION)+\"/epochs/*.json\"))\n",
    "files.sort(key=lambda x: (len(x), x))"
   ]
  },
  {
   "cell_type": "code",
   "execution_count": null,
   "metadata": {},
   "outputs": [],
   "source": [
    "files"
   ]
  },
  {
   "cell_type": "code",
   "execution_count": null,
   "metadata": {},
   "outputs": [],
   "source": [
    "len(files)"
   ]
  },
  {
   "cell_type": "code",
   "execution_count": null,
   "metadata": {},
   "outputs": [],
   "source": [
    "all_metrics = {}"
   ]
  },
  {
   "cell_type": "code",
   "execution_count": null,
   "metadata": {},
   "outputs": [],
   "source": [
    "def generate_metrics_epoch(file_name, epoch):\n",
    "    not_found = 0\n",
    "    with open(file_name, \"r\") as json_file:\n",
    "        prediction = json.load(json_file)\n",
    "        \n",
    "        false_negatives, iou, extra_objects = 0, [], 0\n",
    "        output = {\n",
    "            \"rspc\": [],\n",
    "            \"rspn\": [],\n",
    "            \"ar\": [],\n",
    "            \"rs\": [],\n",
    "            \"r\": [],\n",
    "            \"f\": [],\n",
    "            \"p\": [],\n",
    "            \"extra_objects\": []\n",
    "        }\n",
    "        for key, value in prediction.items():\n",
    "            if key.split(\"-\")[0] not in objects:\n",
    "                not_found += 1\n",
    "                continue\n",
    "            orig_objs = objects[key.split(\"-\")[0]]['ann']\n",
    "            orig_size = objects[key.split(\"-\")[0]]['size']\n",
    "            pred_objs = value\n",
    "       \n",
    "            orig_pred = {i:{'pred':[], 'orig': []} for i in range(1, 92)}\n",
    "            for obj in orig_objs:\n",
    "                out = convert_bbox_to_coordinates(obj['bbox'], orig_size[0], orig_size[1])\n",
    "                orig_pred[obj['category_id']]['orig'].append(out)\n",
    "\n",
    "            for obj in pred_objs:\n",
    "                bbox, ls = obj[:4], obj[-1]\n",
    "                out = convert_bbox_mean_to_coordinates(bbox, 1, 1)\n",
    "                orig_pred[int(ls)]['pred'].append(out)\n",
    "                \n",
    "            bbox_gt, bbox_pred, coco_objects_gt, coco_objects_pred = [], [], [], []\n",
    "\n",
    "            for category_id in orig_pred.keys():\n",
    "                s = 0\n",
    "                orig_objs_match = orig_pred[category_id]['orig']\n",
    "                pred_objs_match = orig_pred[category_id]['pred']\n",
    "                \n",
    "                if len(orig_objs_match) == 0:\n",
    "                    output['extra_objects'].append(len(pred_objs_match))\n",
    "                    continue\n",
    "                elif len(pred_objs_match) == 0:\n",
    "                    coco_objects_gt += (len(orig_objs_match)*[category_id])\n",
    "                    continue\n",
    "\n",
    "                coco_objects_gt += (len(orig_objs_match)*[category_id])\n",
    "                coco_objects_pred += (len(pred_objs_match)*[category_id])\n",
    "\n",
    "                dp = [[1]*len(pred_objs_match) for i in range(len(orig_objs_match))]\n",
    "                # calculate the matrix of ious\n",
    "                for i in range(len(orig_objs_match)):\n",
    "                    for j in range(len(pred_objs_match)):\n",
    "                        # print(orig_objs_match[i], pred_objs_match[j])\n",
    "                        dp[i][j] = bb_intersection_over_union(orig_objs_match[i], pred_objs_match[j])\n",
    "\n",
    "                cost = np.array(dp, dtype=np.float64)\n",
    "                row_ind, col_ind = linear_sum_assignment(cost, maximize=True)\n",
    "                for col_ind, row_ind in zip(list(col_ind), list(row_ind)):\n",
    "                    iou.append(dp[row_ind][col_ind])\n",
    "                    bbox_gt.append(orig_objs_match[row_ind])\n",
    "                    bbox_pred.append(pred_objs_match[col_ind])\n",
    "                    s += 1\n",
    "                false_negatives += abs(len(orig_objs_match) - s)\n",
    "            \n",
    "            only_rpf = False\n",
    "            if len(bbox_gt) == 0 and len(bbox_pred) == 0:\n",
    "                only_rpf = True\n",
    "            rspc, rspn, ar, rs, r, p, f = generate_metrics(bbox_gt, bbox_pred, coco_objects_gt, coco_objects_pred, False)\n",
    "            if not only_rpf:\n",
    "                output['rspc'].append(rspc)\n",
    "                output['rspn'].append(rspn)\n",
    "                output['ar'].append(ar)\n",
    "                output['rs'].append(rs)\n",
    "            output['r'].append(r)\n",
    "            output['p'].append(p)\n",
    "            output['f'].append(f)\n",
    "    print(\"NOT FOUND\", not_found)       \n",
    "    precision(iou, \"test\", str(VERSION), str(epoch), false_negatives)\n",
    "    recall(iou, \"test\", str(VERSION), str(epoch), false_negatives)\n",
    "    real_output = {\n",
    "        \"rspc\": sum(output['rspc'])/len(output['rspc']) if len(output['rspc']) > 0 else 0,\n",
    "        \"rspn\": sum(output['rspn'])/len(output['rspn']) if len(output['rspn']) > 0 else 0,\n",
    "        \"ar\": sum(output['ar'])/len(output['ar']) if len(output['ar']) > 0 else 0,\n",
    "        \"rs\": sum(output['rs'])/len(output['rs']) if len(output['rs']) > 0 else 0,\n",
    "        \"r\": sum(output['r'])/len(output['r']) if len(output['r']) > 0 else 0,\n",
    "        \"f\": sum(output['f'])/len(output['f']) if len(output['f']) > 0 else 0,\n",
    "        \"p\": sum(output['p'])/len(output['p']) if len(output['p']) > 0 else 0,\n",
    "        \"extra_objects\": sum(output['extra_objects'])\n",
    "    } \n",
    "    all_metrics[epoch] = real_output\n",
    "    print(all_metrics[epoch])\n",
    "    print(not_found)"
   ]
  },
  {
   "cell_type": "code",
   "execution_count": null,
   "metadata": {
    "scrolled": true
   },
   "outputs": [],
   "source": [
    "if not os.path.exists(\"./metrics/\"):\n",
    "    os.mkdir(\"./metrics/\")\n",
    "        \n",
    "epoch = 0\n",
    "for file in files:\n",
    "    print(\"Calculating metrics for file:\", file)\n",
    "    generate_metrics_epoch(file, epoch)\n",
    "    epoch += 1\n"
   ]
  },
  {
   "cell_type": "code",
   "execution_count": null,
   "metadata": {},
   "outputs": [],
   "source": [
    "import glob\n",
    "from openpyxl import Workbook"
   ]
  },
  {
   "cell_type": "code",
   "execution_count": null,
   "metadata": {},
   "outputs": [],
   "source": [
    "workbook = Workbook()\n",
    "sheet = workbook.active"
   ]
  },
  {
   "cell_type": "code",
   "execution_count": null,
   "metadata": {},
   "outputs": [],
   "source": [
    "index_to_char = {i+1:j for i, j in enumerate(list(\"ABCDEFGHIJKLMNOPQRSTVWXYZ\"))}"
   ]
  },
  {
   "cell_type": "markdown",
   "metadata": {},
   "source": [
    "precision and recall"
   ]
  },
  {
   "cell_type": "code",
   "execution_count": null,
   "metadata": {},
   "outputs": [],
   "source": [
    "files = glob.glob(\"./metrics/IoUAndRecall/\" + str(VERSION) + \"/*.txt\")\n",
    "files.sort(key=lambda x: (\"precision\" in x, len(x), x))\n",
    "\n",
    "# The first 10 precision the next 10 recall"
   ]
  },
  {
   "cell_type": "code",
   "execution_count": null,
   "metadata": {
    "scrolled": true
   },
   "outputs": [],
   "source": [
    "files"
   ]
  },
  {
   "cell_type": "code",
   "execution_count": null,
   "metadata": {
    "scrolled": true
   },
   "outputs": [],
   "source": [
    "k = 1\n",
    "for file in files:\n",
    "    print(file)\n",
    "    j = 1\n",
    "    with open(file, \"r\") as data:\n",
    "        data.readline()\n",
    "        for line in data:\n",
    "            identificator = index_to_char[j] + str(k)\n",
    "            print(identificator)\n",
    "            sheet[identificator] = str(float(line.split(\"\\t\")[-1][:-1])).replace(\".\", \",\")\n",
    "            # Change character (column)\n",
    "            j += 1\n",
    "    # Change number (row)\n",
    "    k += 1"
   ]
  },
  {
   "cell_type": "code",
   "execution_count": null,
   "metadata": {},
   "outputs": [],
   "source": [
    "workbook.save(filename=\"./metrics/IoUAndRecall/\" + str(VERSION) + \"/precision_and_recall.xlsx\")"
   ]
  },
  {
   "cell_type": "markdown",
   "metadata": {},
   "source": [
    "Remaining metrics"
   ]
  },
  {
   "cell_type": "code",
   "execution_count": null,
   "metadata": {},
   "outputs": [],
   "source": [
    "workbook = Workbook()\n",
    "sheet = workbook.active"
   ]
  },
  {
   "cell_type": "code",
   "execution_count": null,
   "metadata": {},
   "outputs": [],
   "source": [
    "for key, value in all_metrics.items():\n",
    "    sheet[\"A\"+str(key+1)] = str(value[\"rspc\"]).replace(\".\", \",\")\n",
    "    sheet[\"B\"+str(key+1)] = str(value[\"rspn\"]).replace(\".\", \",\")\n",
    "    sheet[\"C\"+str(key+1)] = str(value[\"ar\"]).replace(\".\", \",\")\n",
    "    sheet[\"D\"+str(key+1)] = str(value[\"rs\"]).replace(\".\", \",\")\n",
    "    sheet[\"E\"+str(key+1)] = str(value[\"p\"]).replace(\".\", \",\")\n",
    "    sheet[\"F\"+str(key+1)] = str(value[\"f\"]).replace(\".\", \",\")\n",
    "    sheet[\"G\"+str(key+1)] = str(value[\"r\"]).replace(\".\", \",\")\n",
    "    sheet[\"H\"+str(key+1)] = str(value[\"extra_objects\"]).replace(\".\", \",\")"
   ]
  },
  {
   "cell_type": "code",
   "execution_count": null,
   "metadata": {},
   "outputs": [],
   "source": [
    "if not os.path.exists(\"./metrics/general/\"):\n",
    "    os.mkdir(\"./metrics/general/\")\n",
    "\n",
    "if not os.path.exists(\"./metrics/general/\" + str(VERSION) +\"/\"):\n",
    "    os.mkdir(\"./metrics/general/\" + str(VERSION) +\"/\")"
   ]
  },
  {
   "cell_type": "code",
   "execution_count": null,
   "metadata": {},
   "outputs": [],
   "source": [
    "workbook.save(filename=\"./metrics/general/\" + str(VERSION) + \"/all.xlsx\")"
   ]
  },
  {
   "cell_type": "code",
   "execution_count": null,
   "metadata": {},
   "outputs": [],
   "source": []
  },
  {
   "cell_type": "code",
   "execution_count": null,
   "metadata": {},
   "outputs": [],
   "source": []
  }
 ],
 "metadata": {
  "kernelspec": {
   "display_name": "Python 3",
   "language": "python",
   "name": "python3"
  },
  "language_info": {
   "codemirror_mode": {
    "name": "ipython",
    "version": 3
   },
   "file_extension": ".py",
   "mimetype": "text/x-python",
   "name": "python",
   "nbconvert_exporter": "python",
   "pygments_lexer": "ipython3",
   "version": "3.8.5"
  }
 },
 "nbformat": 4,
 "nbformat_minor": 4
}
