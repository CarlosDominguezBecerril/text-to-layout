{
 "cells": [
  {
   "cell_type": "markdown",
   "metadata": {},
   "source": [
    "This notebook generates a heat-map with the centers of the bounding boxes"
   ]
  },
  {
   "cell_type": "code",
   "execution_count": null,
   "metadata": {},
   "outputs": [],
   "source": [
    "import json\n",
    "import numpy as np\n",
    "import matplotlib\n",
    "import matplotlib.pyplot as plt\n",
    "plt.rcParams.update({'font.size': 16})"
   ]
  },
  {
   "cell_type": "code",
   "execution_count": null,
   "metadata": {},
   "outputs": [],
   "source": [
    "INSTAN_PATH_VAL = \"../data/datasets/COCO/annotations/instances_train2014.json\"\n",
    "NUMBER_OF_SECTORS = 16"
   ]
  },
  {
   "cell_type": "code",
   "execution_count": null,
   "metadata": {},
   "outputs": [],
   "source": [
    "with open(INSTAN_PATH_VAL, \"r\") as json_file:\n",
    "    coco = json.load(json_file)"
   ]
  },
  {
   "cell_type": "code",
   "execution_count": null,
   "metadata": {},
   "outputs": [],
   "source": [
    "image_id_to_size = {}\n",
    "for object_data in coco['images']:\n",
    "    image_id = str(object_data['id'])\n",
    "    image_id_to_size[image_id] = (object_data['width'], object_data['height'])"
   ]
  },
  {
   "cell_type": "code",
   "execution_count": null,
   "metadata": {},
   "outputs": [],
   "source": [
    "objects = {}\n",
    "for object_data in coco['annotations']:\n",
    "    image_id = str(object_data['image_id'])\n",
    "    bbox = object_data['bbox']\n",
    "    WW, HH = image_id_to_size[image_id]\n",
    "    bbox[0], bbox[1], bbox[2], bbox[3] = bbox[0] / WW, bbox[1] / HH, (bbox[0] + bbox[2]) / WW, (bbox[1] + bbox[3]) / HH\n",
    "    # Centers\n",
    "    bbox[0], bbox[1] = (bbox[0] + bbox[2]) * 0.5, (bbox[1] + bbox[3]) * 0.5\n",
    "    if object_data['category_id'] in objects:\n",
    "        objects[object_data['category_id']].append(bbox)\n",
    "    else:\n",
    "        objects[object_data['category_id']] = [bbox]"
   ]
  },
  {
   "cell_type": "code",
   "execution_count": null,
   "metadata": {},
   "outputs": [],
   "source": [
    "category_to_name = {}\n",
    "for object_data in coco['categories']:\n",
    "    category_to_name[object_data['id']] = object_data['name']"
   ]
  },
  {
   "cell_type": "code",
   "execution_count": null,
   "metadata": {},
   "outputs": [],
   "source": [
    "print(objects[2])"
   ]
  },
  {
   "cell_type": "code",
   "execution_count": null,
   "metadata": {},
   "outputs": [],
   "source": [
    "class HeatMap():\n",
    "    def __init__(self, number_of_categories, number_of_sectors, category_to_name):\n",
    "        self.number_of_categories = number_of_categories\n",
    "        self.number_of_sectors = number_of_sectors\n",
    "        self.category_to_name = category_to_name\n",
    "        self.number_of_objects_in_category = {}\n",
    "        self.heat_maps = {}\n",
    "        \n",
    "        for i in range(number_of_categories):\n",
    "            self.heat_maps[i] = np.array([[0]*(self.number_of_sectors) for i in range(self.number_of_sectors)])\n",
    "    \n",
    "    def print_heat_map(self, category_id):\n",
    "        for i in self.heat_maps[category_id]:\n",
    "            print(i)\n",
    "    \n",
    "    def add_element(self, category_id, x, y):\n",
    "        # Lets suppose that x, y are in range [0, 1]\n",
    "        x = x * self.number_of_sectors\n",
    "        y = y * self.number_of_sectors\n",
    "        pos_x = int(x) \n",
    "        pos_y = int(y)\n",
    "        \n",
    "        if pos_x == self.number_of_sectors:\n",
    "            pos_x -= 1\n",
    "        if pos_y == self.number_of_sectors:\n",
    "            pos_y -= 1\n",
    "            \n",
    "        self.heat_maps[category_id][pos_y][pos_x] += 1\n",
    "        if category_id in self.number_of_objects_in_category:\n",
    "            self.number_of_objects_in_category[category_id] += 1\n",
    "        else:\n",
    "            self.number_of_objects_in_category[category_id] = 1\n",
    "    \n",
    "    def show_heat_map(self, category_id):\n",
    "        axis = np.arange(0, 1, 1/(self.number_of_sectors))\n",
    "        \n",
    "        h_m = self.heat_maps[category_id]\n",
    "        \n",
    "        fig, ax = plt.subplots(figsize=(15,15), )\n",
    "        # self.print_heat_map(category_id)\n",
    "        im = ax.imshow(h_m, cmap = 'Greens')\n",
    "        cbar = ax.figure.colorbar(im, ax=ax)\n",
    "        cbar.ax.set_ylabel(\"Number of elements\", rotation=-90, va=\"bottom\")\n",
    "        \n",
    "        ax.set_xticks(np.arange(len(axis)))\n",
    "        ax.set_yticks(np.arange(len(axis)))\n",
    "        \n",
    "        ax.set_xticklabels(axis)\n",
    "        ax.set_yticklabels(axis)\n",
    "        \n",
    "        plt.setp(ax.get_xticklabels(), rotation=45, ha=\"right\", rotation_mode=\"anchor\")\n",
    "        \n",
    "        for i in range(len(axis)):\n",
    "            for j in range(len(axis)):\n",
    "                text = ax.text(j, i, h_m[i, j],\n",
    "                    ha=\"center\", va=\"center\", color=\"k\")\n",
    "        \n",
    "        ax.set_title(self.category_to_name[category_id])\n",
    "        fig.tight_layout()\n",
    "        fig.savefig(\"./heat-map/\" + str(category_id) + '.png', dpi=fig.dpi)\n",
    "        plt.show()"
   ]
  },
  {
   "cell_type": "code",
   "execution_count": null,
   "metadata": {},
   "outputs": [],
   "source": [
    "def add_category_to_heat_map(heat_map, objects, category_id):\n",
    "    for bbox in objects[category_id]:\n",
    "        heat_map.add_element(category_id, bbox[0], bbox[1])\n",
    "    "
   ]
  },
  {
   "cell_type": "code",
   "execution_count": null,
   "metadata": {},
   "outputs": [],
   "source": [
    "# create the heat map\n",
    "heat_map = HeatMap(100, NUMBER_OF_SECTORS, category_to_name)"
   ]
  },
  {
   "cell_type": "code",
   "execution_count": null,
   "metadata": {},
   "outputs": [],
   "source": [
    "# add all the categories\n",
    "for key in objects.keys():\n",
    "    add_category_to_heat_map(heat_map, objects, key)"
   ]
  },
  {
   "cell_type": "code",
   "execution_count": null,
   "metadata": {},
   "outputs": [],
   "source": [
    "# kite x, y \n",
    "for bbox in objects[38]:\n",
    "    print(bbox[0], bbox[1])"
   ]
  },
  {
   "cell_type": "code",
   "execution_count": null,
   "metadata": {},
   "outputs": [],
   "source": [
    "heat_map.show_heat_map(38)"
   ]
  },
  {
   "cell_type": "code",
   "execution_count": null,
   "metadata": {},
   "outputs": [],
   "source": [
    "heat_map.show_heat_map(1)"
   ]
  },
  {
   "cell_type": "code",
   "execution_count": null,
   "metadata": {
    "scrolled": true
   },
   "outputs": [],
   "source": [
    "for key in objects.keys():\n",
    "    heat_map.show_heat_map(key)"
   ]
  },
  {
   "cell_type": "markdown",
   "metadata": {},
   "source": [
    "Generate a gif with all the outputs"
   ]
  },
  {
   "cell_type": "code",
   "execution_count": null,
   "metadata": {},
   "outputs": [],
   "source": [
    "import imageio\n",
    "import glob\n",
    "images = []\n",
    "filenames = list(glob.glob(\"./heat-map/*\"))"
   ]
  },
  {
   "cell_type": "code",
   "execution_count": null,
   "metadata": {},
   "outputs": [],
   "source": [
    "print(filenames)\n",
    "print(len(filenames))"
   ]
  },
  {
   "cell_type": "code",
   "execution_count": null,
   "metadata": {},
   "outputs": [],
   "source": [
    "for filename in filenames:\n",
    "    images.append(imageio.imread(filename))\n",
    "imageio.mimsave('./class_heat-map.gif', images)"
   ]
  }
 ],
 "metadata": {
  "kernelspec": {
   "display_name": "Python 3",
   "language": "python",
   "name": "python3"
  },
  "language_info": {
   "codemirror_mode": {
    "name": "ipython",
    "version": 3
   },
   "file_extension": ".py",
   "mimetype": "text/x-python",
   "name": "python",
   "nbconvert_exporter": "python",
   "pygments_lexer": "ipython3",
   "version": "3.8.5"
  }
 },
 "nbformat": 4,
 "nbformat_minor": 4
}
