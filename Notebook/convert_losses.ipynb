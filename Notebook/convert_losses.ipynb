{
 "cells": [
  {
   "cell_type": "markdown",
   "metadata": {},
   "source": [
    "This notebook converts the training losses from txt format to excel format"
   ]
  },
  {
   "cell_type": "code",
   "execution_count": null,
   "metadata": {},
   "outputs": [],
   "source": [
    "import glob\n",
    "from openpyxl import Workbook"
   ]
  },
  {
   "cell_type": "code",
   "execution_count": null,
   "metadata": {},
   "outputs": [],
   "source": [
    "# Specify here the path\n",
    "V = \"3\"\n",
    "PATH = \"../amr-ganRNN/evaluator_output/\"+ V +\"/losses/*\""
   ]
  },
  {
   "cell_type": "code",
   "execution_count": null,
   "metadata": {},
   "outputs": [],
   "source": [
    "files = list(glob.glob(PATH))\n",
    "files.sort(key=lambda x: (\"precision\" in x, len(x), x))"
   ]
  },
  {
   "cell_type": "code",
   "execution_count": null,
   "metadata": {
    "scrolled": true
   },
   "outputs": [],
   "source": [
    "files"
   ]
  },
  {
   "cell_type": "code",
   "execution_count": null,
   "metadata": {},
   "outputs": [],
   "source": [
    "contents = {}"
   ]
  },
  {
   "cell_type": "code",
   "execution_count": null,
   "metadata": {},
   "outputs": [],
   "source": [
    "i = 1\n",
    "found = False\n",
    "for file in files:\n",
    "    \n",
    "    if \"DEVELOPMENT\" in file and not found:\n",
    "        i += 1\n",
    "        found = True\n",
    "    with open(file, \"r\") as f:\n",
    "        lines = f.readline()\n",
    "        losses = lines.split(\" \")\n",
    "        contents[i] = {\n",
    "            \"class\": losses[0],\n",
    "            \"bbox_xy\": losses[1],\n",
    "            \"bbox_wh\": losses[2],\n",
    "            \"bbox_xy_MSE\": losses[3]\n",
    "        }\n",
    "    i+= 1"
   ]
  },
  {
   "cell_type": "code",
   "execution_count": null,
   "metadata": {},
   "outputs": [],
   "source": [
    "workbook = Workbook()\n",
    "sheet = workbook.active"
   ]
  },
  {
   "cell_type": "code",
   "execution_count": null,
   "metadata": {},
   "outputs": [],
   "source": [
    "for key, value in contents.items():\n",
    "    sheet[\"A\"+str(key)] = str(contents[key][\"class\"]).replace(\".\", \",\")\n",
    "    sheet[\"B\"+str(key)] = str(contents[key][\"bbox_xy\"]).replace(\".\", \",\")\n",
    "    sheet[\"C\"+str(key)] = str(contents[key][\"bbox_wh\"]).replace(\".\", \",\")\n",
    "    sheet[\"D\"+str(key)] = str(contents[key][\"bbox_xy_MSE\"]).replace(\".\", \",\")\n",
    "    "
   ]
  },
  {
   "cell_type": "code",
   "execution_count": null,
   "metadata": {},
   "outputs": [],
   "source": [
    "workbook.save(filename=PATH[:-1] + \"excel.xlsx\")"
   ]
  },
  {
   "cell_type": "code",
   "execution_count": null,
   "metadata": {},
   "outputs": [],
   "source": []
  }
 ],
 "metadata": {
  "kernelspec": {
   "display_name": "Python 3",
   "language": "python",
   "name": "python3"
  },
  "language_info": {
   "codemirror_mode": {
    "name": "ipython",
    "version": 3
   },
   "file_extension": ".py",
   "mimetype": "text/x-python",
   "name": "python",
   "nbconvert_exporter": "python",
   "pygments_lexer": "ipython3",
   "version": "3.8.5"
  }
 },
 "nbformat": 4,
 "nbformat_minor": 4
}
