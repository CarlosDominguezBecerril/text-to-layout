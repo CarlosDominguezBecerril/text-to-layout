{
 "cells": [
  {
   "cell_type": "code",
   "execution_count": 1,
   "metadata": {},
   "outputs": [],
   "source": [
    "import glob\n",
    "from openpyxl import Workbook"
   ]
  },
  {
   "cell_type": "code",
   "execution_count": 2,
   "metadata": {},
   "outputs": [],
   "source": [
    "V = \"1\"\n",
    "PATH = \"../evaluator_output/\"+ V +\"/losses/*\""
   ]
  },
  {
   "cell_type": "code",
   "execution_count": 3,
   "metadata": {},
   "outputs": [],
   "source": [
    "files = list(glob.glob(PATH))\n",
    "files.sort(key=lambda x: (\"precision\" in x, len(x), x))"
   ]
  },
  {
   "cell_type": "code",
   "execution_count": 4,
   "metadata": {
    "scrolled": true
   },
   "outputs": [
    {
     "data": {
      "text/plain": [
       "['../evaluator_output/1/losses/TRAININGlosses0.txt',\n",
       " '../evaluator_output/1/losses/TRAININGlosses1.txt',\n",
       " '../evaluator_output/1/losses/TRAININGlosses2.txt',\n",
       " '../evaluator_output/1/losses/TRAININGlosses3.txt',\n",
       " '../evaluator_output/1/losses/TRAININGlosses4.txt',\n",
       " '../evaluator_output/1/losses/TRAININGlosses5.txt',\n",
       " '../evaluator_output/1/losses/TRAININGlosses6.txt',\n",
       " '../evaluator_output/1/losses/TRAININGlosses7.txt',\n",
       " '../evaluator_output/1/losses/TRAININGlosses8.txt',\n",
       " '../evaluator_output/1/losses/TRAININGlosses9.txt',\n",
       " '../evaluator_output/1/losses/TRAININGlosses10.txt',\n",
       " '../evaluator_output/1/losses/TRAININGlosses11.txt',\n",
       " '../evaluator_output/1/losses/TRAININGlosses12.txt',\n",
       " '../evaluator_output/1/losses/TRAININGlosses13.txt',\n",
       " '../evaluator_output/1/losses/TRAININGlosses14.txt',\n",
       " '../evaluator_output/1/losses/TRAININGlosses15.txt',\n",
       " '../evaluator_output/1/losses/TRAININGlosses16.txt',\n",
       " '../evaluator_output/1/losses/TRAININGlosses17.txt',\n",
       " '../evaluator_output/1/losses/TRAININGlosses18.txt',\n",
       " '../evaluator_output/1/losses/TRAININGlosses19.txt',\n",
       " '../evaluator_output/1/losses/TRAININGlosses20.txt',\n",
       " '../evaluator_output/1/losses/TRAININGlosses21.txt',\n",
       " '../evaluator_output/1/losses/TRAININGlosses22.txt',\n",
       " '../evaluator_output/1/losses/TRAININGlosses23.txt',\n",
       " '../evaluator_output/1/losses/TRAININGlosses24.txt',\n",
       " '../evaluator_output/1/losses/TRAININGlosses25.txt',\n",
       " '../evaluator_output/1/losses/TRAININGlosses26.txt',\n",
       " '../evaluator_output/1/losses/TRAININGlosses27.txt',\n",
       " '../evaluator_output/1/losses/TRAININGlosses28.txt',\n",
       " '../evaluator_output/1/losses/TRAININGlosses29.txt',\n",
       " '../evaluator_output/1/losses/DEVELOPMENTlosses0.txt',\n",
       " '../evaluator_output/1/losses/DEVELOPMENTlosses1.txt',\n",
       " '../evaluator_output/1/losses/DEVELOPMENTlosses2.txt',\n",
       " '../evaluator_output/1/losses/DEVELOPMENTlosses3.txt',\n",
       " '../evaluator_output/1/losses/DEVELOPMENTlosses4.txt',\n",
       " '../evaluator_output/1/losses/DEVELOPMENTlosses5.txt',\n",
       " '../evaluator_output/1/losses/DEVELOPMENTlosses6.txt',\n",
       " '../evaluator_output/1/losses/DEVELOPMENTlosses7.txt',\n",
       " '../evaluator_output/1/losses/DEVELOPMENTlosses8.txt',\n",
       " '../evaluator_output/1/losses/DEVELOPMENTlosses9.txt',\n",
       " '../evaluator_output/1/losses/DEVELOPMENTlosses10.txt',\n",
       " '../evaluator_output/1/losses/DEVELOPMENTlosses11.txt',\n",
       " '../evaluator_output/1/losses/DEVELOPMENTlosses12.txt',\n",
       " '../evaluator_output/1/losses/DEVELOPMENTlosses13.txt',\n",
       " '../evaluator_output/1/losses/DEVELOPMENTlosses14.txt',\n",
       " '../evaluator_output/1/losses/DEVELOPMENTlosses15.txt',\n",
       " '../evaluator_output/1/losses/DEVELOPMENTlosses16.txt',\n",
       " '../evaluator_output/1/losses/DEVELOPMENTlosses17.txt',\n",
       " '../evaluator_output/1/losses/DEVELOPMENTlosses18.txt',\n",
       " '../evaluator_output/1/losses/DEVELOPMENTlosses19.txt',\n",
       " '../evaluator_output/1/losses/DEVELOPMENTlosses20.txt',\n",
       " '../evaluator_output/1/losses/DEVELOPMENTlosses21.txt',\n",
       " '../evaluator_output/1/losses/DEVELOPMENTlosses22.txt',\n",
       " '../evaluator_output/1/losses/DEVELOPMENTlosses23.txt',\n",
       " '../evaluator_output/1/losses/DEVELOPMENTlosses24.txt',\n",
       " '../evaluator_output/1/losses/DEVELOPMENTlosses25.txt',\n",
       " '../evaluator_output/1/losses/DEVELOPMENTlosses26.txt',\n",
       " '../evaluator_output/1/losses/DEVELOPMENTlosses27.txt',\n",
       " '../evaluator_output/1/losses/DEVELOPMENTlosses28.txt',\n",
       " '../evaluator_output/1/losses/DEVELOPMENTlosses29.txt']"
      ]
     },
     "execution_count": 4,
     "metadata": {},
     "output_type": "execute_result"
    }
   ],
   "source": [
    "files"
   ]
  },
  {
   "cell_type": "code",
   "execution_count": 5,
   "metadata": {},
   "outputs": [
    {
     "name": "stdout",
     "output_type": "stream",
     "text": [
      "60\n"
     ]
    }
   ],
   "source": [
    "print(len(files))"
   ]
  },
  {
   "cell_type": "code",
   "execution_count": 6,
   "metadata": {},
   "outputs": [],
   "source": [
    "contents = {}"
   ]
  },
  {
   "cell_type": "code",
   "execution_count": 7,
   "metadata": {},
   "outputs": [],
   "source": [
    "i = 1\n",
    "found = False\n",
    "for file in files:\n",
    "    \n",
    "    if \"DEVELOPMENT\" in file and not found:\n",
    "        i += 1\n",
    "        found = True\n",
    "    with open(file, \"r\") as f:\n",
    "        lines = f.readline()\n",
    "        losses = lines.split(\" \")\n",
    "        contents[i] = {\n",
    "            \"class\": losses[0],\n",
    "            \"bbox_xy\": losses[1],\n",
    "            \"bbox_wh\": losses[2],\n",
    "            \"bbox_xy_MSE\": losses[3]\n",
    "        }\n",
    "    i+= 1"
   ]
  },
  {
   "cell_type": "code",
   "execution_count": 8,
   "metadata": {},
   "outputs": [],
   "source": [
    "workbook = Workbook()\n",
    "sheet = workbook.active"
   ]
  },
  {
   "cell_type": "code",
   "execution_count": 9,
   "metadata": {},
   "outputs": [],
   "source": [
    "for key, value in contents.items():\n",
    "    sheet[\"A\"+str(key)] = str(contents[key][\"class\"]).replace(\".\", \",\")\n",
    "    sheet[\"B\"+str(key)] = str(contents[key][\"bbox_xy\"]).replace(\".\", \",\")\n",
    "    sheet[\"C\"+str(key)] = str(contents[key][\"bbox_wh\"]).replace(\".\", \",\")\n",
    "    sheet[\"D\"+str(key)] = str(contents[key][\"bbox_xy_MSE\"]).replace(\".\", \",\")\n",
    "    "
   ]
  },
  {
   "cell_type": "code",
   "execution_count": 10,
   "metadata": {},
   "outputs": [],
   "source": [
    "workbook.save(filename=\"../evaluator_output/\"+V+\"/losses/excel.xlsx\")"
   ]
  },
  {
   "cell_type": "code",
   "execution_count": null,
   "metadata": {},
   "outputs": [],
   "source": []
  },
  {
   "cell_type": "code",
   "execution_count": null,
   "metadata": {},
   "outputs": [],
   "source": []
  }
 ],
 "metadata": {
  "kernelspec": {
   "display_name": "Python 3",
   "language": "python",
   "name": "python3"
  },
  "language_info": {
   "codemirror_mode": {
    "name": "ipython",
    "version": 3
   },
   "file_extension": ".py",
   "mimetype": "text/x-python",
   "name": "python",
   "nbconvert_exporter": "python",
   "pygments_lexer": "ipython3",
   "version": "3.8.5"
  }
 },
 "nbformat": 4,
 "nbformat_minor": 4
}
